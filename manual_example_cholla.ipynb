{
 "cells": [
  {
   "cell_type": "code",
   "execution_count": 1,
   "id": "48a95375-3db1-4348-8fc2-adb949ad443f",
   "metadata": {},
   "outputs": [],
   "source": [
    "import h5py\n",
    "import yt\n",
    "import numpy as np\n",
    "import matplotlib.pyplot as plt"
   ]
  },
  {
   "cell_type": "code",
   "execution_count": 2,
   "id": "4478b33c-3af7-4ff1-99e9-a55ff12fd885",
   "metadata": {},
   "outputs": [],
   "source": [
    "# ds=yt.load(\"Data/Cholla/30.h5\")"
   ]
  },
  {
   "cell_type": "code",
   "execution_count": 3,
   "id": "6525af19-9596-494a-917a-84ccaa90369c",
   "metadata": {},
   "outputs": [],
   "source": [
    "f1 = h5py.File(\"/Users/yilinxia/Desktop/DXL/yt/Cholla/30.h5\",'r') "
   ]
  },
  {
   "cell_type": "code",
   "execution_count": 4,
   "id": "c5b7bad2-a136-4233-b57c-66dd84853d03",
   "metadata": {},
   "outputs": [
    {
     "data": {
      "text/plain": [
       "h5py._hl.files.File"
      ]
     },
     "execution_count": 4,
     "metadata": {},
     "output_type": "execute_result"
    }
   ],
   "source": [
    "type(f1)"
   ]
  },
  {
   "cell_type": "markdown",
   "id": "acd6553a-eded-4cb9-8d84-1c985a760ad1",
   "metadata": {},
   "source": [
    "# Exploration\n",
    "### Keys Explorations"
   ]
  },
  {
   "cell_type": "code",
   "execution_count": 5,
   "id": "d41cb47c-7693-4fb9-9581-64360d9fb60d",
   "metadata": {},
   "outputs": [
    {
     "data": {
      "text/plain": [
       "<KeysViewHDF5 ['Energy', 'GasEnergy', 'density', 'momentum_x', 'momentum_y', 'momentum_z']>"
      ]
     },
     "execution_count": 5,
     "metadata": {},
     "output_type": "execute_result"
    }
   ],
   "source": [
    "f1.keys()"
   ]
  },
  {
   "cell_type": "code",
   "execution_count": 6,
   "id": "ec2a8ba3-b2c7-4cf9-8d0f-b65cc8f8f83d",
   "metadata": {},
   "outputs": [
    {
     "data": {
      "text/plain": [
       "<HDF5 dataset \"density\": shape (128, 128, 128), type \">f8\">"
      ]
     },
     "execution_count": 6,
     "metadata": {},
     "output_type": "execute_result"
    }
   ],
   "source": [
    "f1[\"density\"]"
   ]
  },
  {
   "cell_type": "code",
   "execution_count": 7,
   "id": "8b858f9e-8996-4a95-9ee9-fa06bc66703f",
   "metadata": {},
   "outputs": [
    {
     "data": {
      "text/plain": [
       "<HDF5 dataset \"Energy\": shape (128, 128, 128), type \">f8\">"
      ]
     },
     "execution_count": 7,
     "metadata": {},
     "output_type": "execute_result"
    }
   ],
   "source": [
    "f1['Energy']"
   ]
  },
  {
   "cell_type": "code",
   "execution_count": 8,
   "id": "c9354e3c-b777-44db-a81b-61650e4beaa8",
   "metadata": {},
   "outputs": [
    {
     "data": {
      "text/plain": [
       "<HDF5 dataset \"GasEnergy\": shape (128, 128, 128), type \">f8\">"
      ]
     },
     "execution_count": 8,
     "metadata": {},
     "output_type": "execute_result"
    }
   ],
   "source": [
    "f1['GasEnergy']"
   ]
  },
  {
   "cell_type": "code",
   "execution_count": 9,
   "id": "47c62f0d-c697-47af-bfb9-0b15f48d2c1d",
   "metadata": {},
   "outputs": [
    {
     "data": {
      "text/plain": [
       "<HDF5 dataset \"momentum_x\": shape (128, 128, 128), type \">f8\">"
      ]
     },
     "execution_count": 9,
     "metadata": {},
     "output_type": "execute_result"
    }
   ],
   "source": [
    "f1['momentum_x']"
   ]
  },
  {
   "cell_type": "code",
   "execution_count": 10,
   "id": "6b0b701a-66db-47fc-a6eb-565f13a5e5a4",
   "metadata": {},
   "outputs": [
    {
     "data": {
      "text/plain": [
       "<HDF5 dataset \"momentum_y\": shape (128, 128, 128), type \">f8\">"
      ]
     },
     "execution_count": 10,
     "metadata": {},
     "output_type": "execute_result"
    }
   ],
   "source": [
    "f1['momentum_y']"
   ]
  },
  {
   "cell_type": "code",
   "execution_count": 11,
   "id": "5d26825d-b420-4475-9a91-08b58eb98306",
   "metadata": {},
   "outputs": [
    {
     "data": {
      "text/plain": [
       "<HDF5 dataset \"momentum_z\": shape (128, 128, 128), type \">f8\">"
      ]
     },
     "execution_count": 11,
     "metadata": {},
     "output_type": "execute_result"
    }
   ],
   "source": [
    "f1['momentum_z']"
   ]
  },
  {
   "cell_type": "code",
   "execution_count": 12,
   "id": "6e333f2c-148c-4a58-bbb4-4291a0ca76d5",
   "metadata": {},
   "outputs": [],
   "source": [
    "# np.array(f1['momentum_z'])"
   ]
  },
  {
   "cell_type": "markdown",
   "id": "80694a8a-5a13-4ad2-b8f1-f61448773b42",
   "metadata": {},
   "source": [
    "### Attributes Exploration"
   ]
  },
  {
   "cell_type": "code",
   "execution_count": 13,
   "id": "496d1dc5-4134-429f-b93c-33122d9684e6",
   "metadata": {},
   "outputs": [
    {
     "data": {
      "text/plain": [
       "<KeysViewHDF5 ['bounds', 'dims', 'dims_local', 'domain', 'dt', 'dx', 'gamma', 'n_step', 'offset', 't']>"
      ]
     },
     "execution_count": 13,
     "metadata": {},
     "output_type": "execute_result"
    }
   ],
   "source": [
    "f1.attrs.keys()"
   ]
  },
  {
   "cell_type": "code",
   "execution_count": 14,
   "id": "7140096b-bf0e-49a4-8a7a-c835ee0671a4",
   "metadata": {},
   "outputs": [],
   "source": [
    "dims=f1.attrs[\"dims\"]"
   ]
  },
  {
   "cell_type": "code",
   "execution_count": 15,
   "id": "ed8311ed-9a0b-47f2-acb8-50b0676eb807",
   "metadata": {},
   "outputs": [
    {
     "data": {
      "text/plain": [
       "array([128, 128, 128], dtype=int32)"
      ]
     },
     "execution_count": 15,
     "metadata": {},
     "output_type": "execute_result"
    }
   ],
   "source": [
    "dims"
   ]
  },
  {
   "cell_type": "code",
   "execution_count": 16,
   "id": "02ba88c2-fe3f-4263-a79d-69520bd96cd7",
   "metadata": {},
   "outputs": [
    {
     "data": {
      "text/plain": [
       "array([-5., -5., -5.])"
      ]
     },
     "execution_count": 16,
     "metadata": {},
     "output_type": "execute_result"
    }
   ],
   "source": [
    "f1.attrs[\"bounds\"]"
   ]
  },
  {
   "cell_type": "code",
   "execution_count": 17,
   "id": "41f5e6d0-9044-4333-9b93-acb106445b42",
   "metadata": {},
   "outputs": [
    {
     "data": {
      "text/plain": [
       "array([128, 128, 128], dtype=int32)"
      ]
     },
     "execution_count": 17,
     "metadata": {},
     "output_type": "execute_result"
    }
   ],
   "source": [
    "f1.attrs[\"dims_local\"]"
   ]
  },
  {
   "cell_type": "code",
   "execution_count": 18,
   "id": "6870c3c5-71ae-456d-b5f7-21a1b49798ee",
   "metadata": {},
   "outputs": [
    {
     "data": {
      "text/plain": [
       "array([10., 10., 10.])"
      ]
     },
     "execution_count": 18,
     "metadata": {},
     "output_type": "execute_result"
    }
   ],
   "source": [
    "f1.attrs[\"domain\"]"
   ]
  },
  {
   "cell_type": "code",
   "execution_count": 19,
   "id": "d47aee8a-fe4f-4d12-ab3f-14378573ce60",
   "metadata": {},
   "outputs": [
    {
     "data": {
      "text/plain": [
       "array([1.])"
      ]
     },
     "execution_count": 19,
     "metadata": {},
     "output_type": "execute_result"
    }
   ],
   "source": [
    "f1.attrs[\"dt\"]"
   ]
  },
  {
   "cell_type": "code",
   "execution_count": 20,
   "id": "16e4ee66-6e23-43be-b9e5-5158c15ceb17",
   "metadata": {},
   "outputs": [
    {
     "data": {
      "text/plain": [
       "array([0.078125, 0.078125, 0.078125])"
      ]
     },
     "execution_count": 20,
     "metadata": {},
     "output_type": "execute_result"
    }
   ],
   "source": [
    "f1.attrs[\"dx\"]"
   ]
  },
  {
   "cell_type": "code",
   "execution_count": 21,
   "id": "663c1df7-7d1c-41b5-9e67-4209bd6b05c4",
   "metadata": {},
   "outputs": [
    {
     "data": {
      "text/plain": [
       "array([1.6666667])"
      ]
     },
     "execution_count": 21,
     "metadata": {},
     "output_type": "execute_result"
    }
   ],
   "source": [
    "f1.attrs[\"gamma\"]"
   ]
  },
  {
   "cell_type": "code",
   "execution_count": 22,
   "id": "05338582-242d-4bd7-af84-6a26d4b7f955",
   "metadata": {},
   "outputs": [
    {
     "data": {
      "text/plain": [
       "array([25379], dtype=int32)"
      ]
     },
     "execution_count": 22,
     "metadata": {},
     "output_type": "execute_result"
    }
   ],
   "source": [
    "f1.attrs[\"n_step\"]"
   ]
  },
  {
   "cell_type": "code",
   "execution_count": 23,
   "id": "588f4a74-5cc2-4993-9d35-2d742cfdfee1",
   "metadata": {},
   "outputs": [
    {
     "data": {
      "text/plain": [
       "array([0, 0, 0], dtype=int32)"
      ]
     },
     "execution_count": 23,
     "metadata": {},
     "output_type": "execute_result"
    }
   ],
   "source": [
    "f1.attrs[\"offset\"]"
   ]
  },
  {
   "cell_type": "code",
   "execution_count": 24,
   "id": "e40ba055-f71c-4489-a535-379893847f3d",
   "metadata": {},
   "outputs": [
    {
     "data": {
      "text/plain": [
       "array([30000.])"
      ]
     },
     "execution_count": 24,
     "metadata": {},
     "output_type": "execute_result"
    }
   ],
   "source": [
    "f1.attrs[\"t\"]"
   ]
  },
  {
   "cell_type": "markdown",
   "id": "c29b1c1c-3972-464b-8191-af8facef2c62",
   "metadata": {},
   "source": [
    "# Direct Visualization with Numpy"
   ]
  },
  {
   "cell_type": "code",
   "execution_count": 25,
   "id": "8f5ccfe1-b7eb-4f3f-9dfd-786007b0e18e",
   "metadata": {},
   "outputs": [
    {
     "data": {
      "image/png": "[encoded data removed]",
      "text/plain": [
       "<Figure size 1332x756 with 2 Axes>"
      ]
     },
     "metadata": {
      "needs_background": "light"
     },
     "output_type": "display_data"
    }
   ],
   "source": [
    "ds=np.array(f1[\"density\"])\n",
    "fig, ax = plt.subplots(1, 1)\n",
    "fig.set_size_inches(18.5, 10.5)\n",
    "# m = ax.imshow(np.log(ds[:, :, ds.shape[2]//2]))\n",
    "m = ax.imshow(ds[:, :, ds.shape[2]//2])\n",
    "plt.xlim(50, 80)\n",
    "plt.ylim(50, 80)\n",
    "fig.colorbar(m, ax=ax, location='right')\n",
    "plt.show()"
   ]
  },
  {
   "cell_type": "markdown",
   "id": "6e3b1724-9eca-4ea6-9e49-10e6bd5cf736",
   "metadata": {},
   "source": [
    "# Visualization with yt"
   ]
  },
  {
   "cell_type": "code",
   "execution_count": 26,
   "id": "576ce2ed-2f37-4cad-99c8-5098c63ae18e",
   "metadata": {},
   "outputs": [],
   "source": [
    "grid_data = [\n",
    "    dict(left_edge = [0.0, 0.0, 0.0],\n",
    "         right_edge = [1.0, 1.0, 1.0],\n",
    "         level = 0,\n",
    "         dimensions = list(f1.attrs[\"dims\"]))]"
   ]
  },
  {
   "cell_type": "code",
   "execution_count": 27,
   "id": "46b3f6f3-71ab-49ca-b010-dac516608d8f",
   "metadata": {},
   "outputs": [],
   "source": [
    "for g in grid_data:\n",
    "    g[\"density\"]=np.array(f1[\"density\"])"
   ]
  },
  {
   "cell_type": "code",
   "execution_count": 28,
   "id": "910b3271-8c6c-498f-a73c-06c8111c3e32",
   "metadata": {},
   "outputs": [],
   "source": [
    "grid_data[0][\"particle_position_x\"] = (np.random.uniform(low=0.25, high=0.75, size=1000), \"code_length\")\n",
    "grid_data[0][\"particle_position_y\"] = (np.random.uniform(low=0.25, high=0.75, size=1000), \"code_length\")\n",
    "grid_data[0][\"particle_position_z\"] = (np.random.uniform(low=0.25, high=0.75, size=1000), \"code_length\")"
   ]
  },
  {
   "cell_type": "code",
   "execution_count": 29,
   "id": "21e3f32c-bfff-4695-b010-300cad4a008b",
   "metadata": {},
   "outputs": [
    {
     "name": "stderr",
     "output_type": "stream",
     "text": [
      "yt : [INFO     ] 2022-04-22 09:28:33,316 Parameters: current_time              = 0.0\n",
      "yt : [INFO     ] 2022-04-22 09:28:33,318 Parameters: domain_dimensions         = [128 128 128]\n",
      "yt : [INFO     ] 2022-04-22 09:28:33,320 Parameters: domain_left_edge          = [0. 0. 0.]\n",
      "yt : [INFO     ] 2022-04-22 09:28:33,322 Parameters: domain_right_edge         = [1. 1. 1.]\n",
      "yt : [INFO     ] 2022-04-22 09:28:33,322 Parameters: cosmological_simulation   = 0\n"
     ]
    }
   ],
   "source": [
    "ds = yt.load_amr_grids(grid_data, [128, 128, 128])"
   ]
  },
  {
   "cell_type": "code",
   "execution_count": 30,
   "id": "f480c75f-adf3-4deb-aebb-aa89c8179fa3",
   "metadata": {},
   "outputs": [
    {
     "name": "stderr",
     "output_type": "stream",
     "text": [
      "yt : [INFO     ] 2022-04-22 09:28:34,145 xlim = 0.000000 1.000000\n",
      "yt : [INFO     ] 2022-04-22 09:28:34,146 ylim = 0.000000 1.000000\n",
      "yt : [INFO     ] 2022-04-22 09:28:34,147 xlim = 0.000000 1.000000\n",
      "yt : [INFO     ] 2022-04-22 09:28:34,147 ylim = 0.000000 1.000000\n",
      "yt : [INFO     ] 2022-04-22 09:28:34,150 Making a fixed resolution buffer of (('gas', 'density')) 800 by 800\n"
     ]
    },
    {
     "data": {
      "text/html": [
       "<img style=\"max-width:100%;max-height:100%;\" src=\"data:image/png;base64,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\"><br>"
      ],
      "text/plain": [
       "<yt.visualization.plot_window.AxisAlignedSlicePlot at 0x7feddef05490>"
      ]
     },
     "execution_count": 30,
     "metadata": {},
     "output_type": "execute_result"
    }
   ],
   "source": [
    "yt.SlicePlot(ds, \"z\", (\"gas\", \"density\"))"
   ]
  }
 ],
 "metadata": {
  "kernelspec": {
   "display_name": "Python 3 (ipykernel)",
   "language": "python",
   "name": "python3"
  },
  "language_info": {
   "codemirror_mode": {
    "name": "ipython",
    "version": 3
   },
   "file_extension": ".py",
   "mimetype": "text/x-python",
   "name": "python",
   "nbconvert_exporter": "python",
   "pygments_lexer": "ipython3",
   "version": "3.8.12"
  }
 },
 "nbformat": 4,
 "nbformat_minor": 5
}
