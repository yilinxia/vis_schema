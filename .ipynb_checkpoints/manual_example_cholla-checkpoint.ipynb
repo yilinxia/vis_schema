{
 "cells": [
  {
   "cell_type": "code",
   "execution_count": 1,
   "id": "48a95375-3db1-4348-8fc2-adb949ad443f",
   "metadata": {},
   "outputs": [],
   "source": [
    "import h5py\n",
    "import yt\n",
    "import numpy as np\n",
    "import matplotlib.pyplot as plt"
   ]
  },
  {
   "cell_type": "code",
   "execution_count": 2,
   "id": "4478b33c-3af7-4ff1-99e9-a55ff12fd885",
   "metadata": {},
   "outputs": [],
   "source": [
    "# ds=yt.load(\"Cholla/30.h5\")"
   ]
  },
  {
   "cell_type": "code",
   "execution_count": 3,
   "id": "6525af19-9596-494a-917a-84ccaa90369c",
   "metadata": {},
   "outputs": [],
   "source": [
    "f1 = h5py.File(\"Data/Cholla/30.h5\",'r') "
   ]
  },
  {
   "cell_type": "markdown",
   "id": "acd6553a-eded-4cb9-8d84-1c985a760ad1",
   "metadata": {},
   "source": [
    "# Exploration\n",
    "### Keys Explorations"
   ]
  },
  {
   "cell_type": "code",
   "execution_count": 4,
   "id": "d41cb47c-7693-4fb9-9581-64360d9fb60d",
   "metadata": {},
   "outputs": [
    {
     "data": {
      "text/plain": [
       "<KeysViewHDF5 ['Energy', 'GasEnergy', 'density', 'momentum_x', 'momentum_y', 'momentum_z']>"
      ]
     },
     "execution_count": 4,
     "metadata": {},
     "output_type": "execute_result"
    }
   ],
   "source": [
    "f1.keys()"
   ]
  },
  {
   "cell_type": "code",
   "execution_count": 5,
   "id": "ec2a8ba3-b2c7-4cf9-8d0f-b65cc8f8f83d",
   "metadata": {},
   "outputs": [
    {
     "data": {
      "text/plain": [
       "<HDF5 dataset \"density\": shape (128, 128, 128), type \">f8\">"
      ]
     },
     "execution_count": 5,
     "metadata": {},
     "output_type": "execute_result"
    }
   ],
   "source": [
    "f1[\"density\"]"
   ]
  },
  {
   "cell_type": "code",
   "execution_count": 6,
   "id": "8b858f9e-8996-4a95-9ee9-fa06bc66703f",
   "metadata": {},
   "outputs": [
    {
     "data": {
      "text/plain": [
       "<HDF5 dataset \"Energy\": shape (128, 128, 128), type \">f8\">"
      ]
     },
     "execution_count": 6,
     "metadata": {},
     "output_type": "execute_result"
    }
   ],
   "source": [
    "f1['Energy']"
   ]
  },
  {
   "cell_type": "code",
   "execution_count": 7,
   "id": "c9354e3c-b777-44db-a81b-61650e4beaa8",
   "metadata": {},
   "outputs": [
    {
     "data": {
      "text/plain": [
       "<HDF5 dataset \"GasEnergy\": shape (128, 128, 128), type \">f8\">"
      ]
     },
     "execution_count": 7,
     "metadata": {},
     "output_type": "execute_result"
    }
   ],
   "source": [
    "f1['GasEnergy']"
   ]
  },
  {
   "cell_type": "code",
   "execution_count": 8,
   "id": "47c62f0d-c697-47af-bfb9-0b15f48d2c1d",
   "metadata": {},
   "outputs": [
    {
     "data": {
      "text/plain": [
       "<HDF5 dataset \"momentum_x\": shape (128, 128, 128), type \">f8\">"
      ]
     },
     "execution_count": 8,
     "metadata": {},
     "output_type": "execute_result"
    }
   ],
   "source": [
    "f1['momentum_x']"
   ]
  },
  {
   "cell_type": "code",
   "execution_count": 9,
   "id": "6b0b701a-66db-47fc-a6eb-565f13a5e5a4",
   "metadata": {},
   "outputs": [
    {
     "data": {
      "text/plain": [
       "<HDF5 dataset \"momentum_y\": shape (128, 128, 128), type \">f8\">"
      ]
     },
     "execution_count": 9,
     "metadata": {},
     "output_type": "execute_result"
    }
   ],
   "source": [
    "f1['momentum_y']"
   ]
  },
  {
   "cell_type": "code",
   "execution_count": 10,
   "id": "5d26825d-b420-4475-9a91-08b58eb98306",
   "metadata": {},
   "outputs": [
    {
     "data": {
      "text/plain": [
       "<HDF5 dataset \"momentum_z\": shape (128, 128, 128), type \">f8\">"
      ]
     },
     "execution_count": 10,
     "metadata": {},
     "output_type": "execute_result"
    }
   ],
   "source": [
    "f1['momentum_z']"
   ]
  },
  {
   "cell_type": "code",
   "execution_count": 11,
   "id": "6e333f2c-148c-4a58-bbb4-4291a0ca76d5",
   "metadata": {},
   "outputs": [],
   "source": [
    "# np.array(f1['momentum_z'])"
   ]
  },
  {
   "cell_type": "markdown",
   "id": "80694a8a-5a13-4ad2-b8f1-f61448773b42",
   "metadata": {},
   "source": [
    "### Attributes Exploration"
   ]
  },
  {
   "cell_type": "code",
   "execution_count": 12,
   "id": "496d1dc5-4134-429f-b93c-33122d9684e6",
   "metadata": {},
   "outputs": [
    {
     "data": {
      "text/plain": [
       "<KeysViewHDF5 ['bounds', 'dims', 'dims_local', 'domain', 'dt', 'dx', 'gamma', 'n_step', 'offset', 't']>"
      ]
     },
     "execution_count": 12,
     "metadata": {},
     "output_type": "execute_result"
    }
   ],
   "source": [
    "f1.attrs.keys()"
   ]
  },
  {
   "cell_type": "code",
   "execution_count": 13,
   "id": "7140096b-bf0e-49a4-8a7a-c835ee0671a4",
   "metadata": {},
   "outputs": [],
   "source": [
    "dims=f1.attrs[\"dims\"]"
   ]
  },
  {
   "cell_type": "code",
   "execution_count": 14,
   "id": "02ba88c2-fe3f-4263-a79d-69520bd96cd7",
   "metadata": {},
   "outputs": [
    {
     "data": {
      "text/plain": [
       "array([-5., -5., -5.])"
      ]
     },
     "execution_count": 14,
     "metadata": {},
     "output_type": "execute_result"
    }
   ],
   "source": [
    "f1.attrs[\"bounds\"]"
   ]
  },
  {
   "cell_type": "code",
   "execution_count": 15,
   "id": "41f5e6d0-9044-4333-9b93-acb106445b42",
   "metadata": {},
   "outputs": [
    {
     "data": {
      "text/plain": [
       "array([128, 128, 128], dtype=int32)"
      ]
     },
     "execution_count": 15,
     "metadata": {},
     "output_type": "execute_result"
    }
   ],
   "source": [
    "f1.attrs[\"dims_local\"]"
   ]
  },
  {
   "cell_type": "code",
   "execution_count": 16,
   "id": "6870c3c5-71ae-456d-b5f7-21a1b49798ee",
   "metadata": {},
   "outputs": [
    {
     "data": {
      "text/plain": [
       "array([10., 10., 10.])"
      ]
     },
     "execution_count": 16,
     "metadata": {},
     "output_type": "execute_result"
    }
   ],
   "source": [
    "f1.attrs[\"domain\"]"
   ]
  },
  {
   "cell_type": "code",
   "execution_count": 17,
   "id": "d47aee8a-fe4f-4d12-ab3f-14378573ce60",
   "metadata": {},
   "outputs": [
    {
     "data": {
      "text/plain": [
       "array([1.])"
      ]
     },
     "execution_count": 17,
     "metadata": {},
     "output_type": "execute_result"
    }
   ],
   "source": [
    "f1.attrs[\"dt\"]"
   ]
  },
  {
   "cell_type": "code",
   "execution_count": 18,
   "id": "16e4ee66-6e23-43be-b9e5-5158c15ceb17",
   "metadata": {},
   "outputs": [
    {
     "data": {
      "text/plain": [
       "array([0.078125, 0.078125, 0.078125])"
      ]
     },
     "execution_count": 18,
     "metadata": {},
     "output_type": "execute_result"
    }
   ],
   "source": [
    "f1.attrs[\"dx\"]"
   ]
  },
  {
   "cell_type": "code",
   "execution_count": 19,
   "id": "663c1df7-7d1c-41b5-9e67-4209bd6b05c4",
   "metadata": {},
   "outputs": [
    {
     "data": {
      "text/plain": [
       "array([1.6666667])"
      ]
     },
     "execution_count": 19,
     "metadata": {},
     "output_type": "execute_result"
    }
   ],
   "source": [
    "f1.attrs[\"gamma\"]"
   ]
  },
  {
   "cell_type": "code",
   "execution_count": 20,
   "id": "05338582-242d-4bd7-af84-6a26d4b7f955",
   "metadata": {},
   "outputs": [
    {
     "data": {
      "text/plain": [
       "array([25379], dtype=int32)"
      ]
     },
     "execution_count": 20,
     "metadata": {},
     "output_type": "execute_result"
    }
   ],
   "source": [
    "f1.attrs[\"n_step\"]"
   ]
  },
  {
   "cell_type": "code",
   "execution_count": 21,
   "id": "588f4a74-5cc2-4993-9d35-2d742cfdfee1",
   "metadata": {},
   "outputs": [
    {
     "data": {
      "text/plain": [
       "array([0, 0, 0], dtype=int32)"
      ]
     },
     "execution_count": 21,
     "metadata": {},
     "output_type": "execute_result"
    }
   ],
   "source": [
    "f1.attrs[\"offset\"]"
   ]
  },
  {
   "cell_type": "code",
   "execution_count": 22,
   "id": "e40ba055-f71c-4489-a535-379893847f3d",
   "metadata": {},
   "outputs": [
    {
     "data": {
      "text/plain": [
       "array([30000.])"
      ]
     },
     "execution_count": 22,
     "metadata": {},
     "output_type": "execute_result"
    }
   ],
   "source": [
    "f1.attrs[\"t\"]"
   ]
  },
  {
   "cell_type": "markdown",
   "id": "c29b1c1c-3972-464b-8191-af8facef2c62",
   "metadata": {},
   "source": [
    "# Visualization"
   ]
  },
  {
   "cell_type": "code",
   "execution_count": null,
   "id": "8f5ccfe1-b7eb-4f3f-9dfd-786007b0e18e",
   "metadata": {},
   "outputs": [
    {
     "data": {
      "image/png": "[encoded data removed]",
      "text/plain": [
       "<Figure size 1332x756 with 1 Axes>"
      ]
     },
     "metadata": {
      "needs_background": "light"
     },
     "output_type": "display_data"
    }
   ],
   "source": [
    "ds=np.array(f1[\"density\"])\n",
    "fig, ax = plt.subplots(1, 1)\n",
    "fig.set_size_inches(18.5, 10.5)\n",
    "m = ax.imshow(ds[:, :, ds.shape[2]//2])\n",
    "plt.xlim(50, 80)\n",
    "plt.ylim(50, 80)\n",
    "plt.show()"
   ]
  }
 ],
 "metadata": {
  "kernelspec": {
   "display_name": "Python 3 (ipykernel)",
   "language": "python",
   "name": "python3"
  },
  "language_info": {
   "codemirror_mode": {
    "name": "ipython",
    "version": 3
   },
   "file_extension": ".py",
   "mimetype": "text/x-python",
   "name": "python",
   "nbconvert_exporter": "python",
   "pygments_lexer": "ipython3",
   "version": "3.8.12"
  }
 },
 "nbformat": 4,
 "nbformat_minor": 5
}
