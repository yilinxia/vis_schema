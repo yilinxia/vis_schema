{
 "cells": [
  {
   "cell_type": "markdown",
   "id": "ffbb6682-a8b1-49d3-8ce4-cb60acab635b",
   "metadata": {},
   "source": [
    "# Load Data"
   ]
  },
  {
   "cell_type": "code",
   "execution_count": 1,
   "id": "d88919b7-0c3d-4dca-a8b6-20abac59d14a",
   "metadata": {},
   "outputs": [],
   "source": [
    "import yt\n",
    "import numpy as np"
   ]
  },
  {
   "cell_type": "code",
   "execution_count": 2,
   "id": "264648d2-c317-44f3-a484-f3d3f6373546",
   "metadata": {},
   "outputs": [
    {
     "name": "stderr",
     "output_type": "stream",
     "text": [
      "yt : [INFO     ] 2022-03-30 11:44:56,336 Sample dataset found in '/Users/yilinxia/Desktop/DXL/yt/IsolatedGalaxy/galaxy0030/galaxy0030'\n",
      "yt : [INFO     ] 2022-03-30 11:44:56,481 Parameters: current_time              = 0.0060000200028298\n",
      "yt : [INFO     ] 2022-03-30 11:44:56,483 Parameters: domain_dimensions         = [32 32 32]\n",
      "yt : [INFO     ] 2022-03-30 11:44:56,486 Parameters: domain_left_edge          = [0. 0. 0.]\n",
      "yt : [INFO     ] 2022-03-30 11:44:56,489 Parameters: domain_right_edge         = [1. 1. 1.]\n",
      "yt : [INFO     ] 2022-03-30 11:44:56,490 Parameters: cosmological_simulation   = 0\n"
     ]
    }
   ],
   "source": [
    "ds=yt.load_sample(\"IsolatedGalaxy\")"
   ]
  },
  {
   "cell_type": "code",
   "execution_count": 3,
   "id": "cb8de68f-9ca6-42b2-840a-9d1e9e1e3f34",
   "metadata": {},
   "outputs": [
    {
     "data": {
      "text/plain": [
       "EnzoDataset: /Users/yilinxia/Desktop/DXL/yt/IsolatedGalaxy/galaxy0030/galaxy0030"
      ]
     },
     "execution_count": 3,
     "metadata": {},
     "output_type": "execute_result"
    }
   ],
   "source": [
    "ds"
   ]
  },
  {
   "cell_type": "markdown",
   "id": "af5772cd-fb6c-48d4-a47a-d06448ee09a4",
   "metadata": {},
   "source": [
    "# Mesh Structure"
   ]
  },
  {
   "cell_type": "markdown",
   "id": "3bf09882-2698-4e09-a398-cdd53929963b",
   "metadata": {},
   "source": [
    "### General Overview"
   ]
  },
  {
   "cell_type": "code",
   "execution_count": 4,
   "id": "626f542c-bc99-4312-a6a5-1c55bdc6e542",
   "metadata": {},
   "outputs": [
    {
     "name": "stderr",
     "output_type": "stream",
     "text": [
      "Parsing Hierarchy : 100%|██████████████████████████| 173/173 [00:00<00:00, 3682.80it/s]\n",
      "yt : [INFO     ] 2022-03-30 11:44:56,624 Gathering a field list (this may take a moment.)\n"
     ]
    },
    {
     "name": "stdout",
     "output_type": "stream",
     "text": [
      "level\t# grids\t       # cells\t     # cells^3\n",
      "----------------------------------------------\n",
      "  0\t     1\t         32768\t            32\n",
      "  1\t     8\t         34304\t            33\n",
      "  2\t     8\t        181888\t            57\n",
      "  3\t     8\t        646968\t            87\n",
      "  4\t    15\t        947856\t            99\n",
      "  5\t    51\t        874128\t            96\n",
      "  6\t    18\t        786328\t            93\n",
      "  7\t    28\t        446776\t            77\n",
      "  8\t    36\t        209400\t            60\n",
      "----------------------------------------------\n",
      "   \t   173\t       4160416\n",
      "\n",
      "\n",
      "t = 6.00002000e-03 = 1.39768066e+16 s = 4.42898275e+08 years\n",
      "\n",
      "Smallest Cell:\n",
      "\tWidth: 1.221e-04 Mpc Mpc\n",
      "\tWidth: 1.221e+02 pc pc\n",
      "\tWidth: 2.518e+07 AU AU\n",
      "\tWidth: 3.767e+20 cm cm\n"
     ]
    }
   ],
   "source": [
    "ds.print_stats()"
   ]
  },
  {
   "cell_type": "code",
   "execution_count": 5,
   "id": "ef7bb49e-a11c-4b4e-ace1-8de1283b0905",
   "metadata": {},
   "outputs": [
    {
     "data": {
      "text/plain": [
       "173"
      ]
     },
     "execution_count": 5,
     "metadata": {},
     "output_type": "execute_result"
    }
   ],
   "source": [
    "len(ds.index.grids)"
   ]
  },
  {
   "cell_type": "code",
   "execution_count": 6,
   "id": "542727e3-f5a6-4aea-9258-6db4fd063d41",
   "metadata": {},
   "outputs": [
    {
     "data": {
      "text/plain": [
       "EnzoGrid_0001"
      ]
     },
     "execution_count": 6,
     "metadata": {},
     "output_type": "execute_result"
    }
   ],
   "source": [
    "ds.index.grids[0]"
   ]
  },
  {
   "cell_type": "code",
   "execution_count": 7,
   "id": "57187c43-7225-4881-92ef-3d36db428ba2",
   "metadata": {},
   "outputs": [
    {
     "data": {
      "text/plain": [
       "EnzoGrid_0173"
      ]
     },
     "execution_count": 7,
     "metadata": {},
     "output_type": "execute_result"
    }
   ],
   "source": [
    "ds.index.grids[172]"
   ]
  },
  {
   "cell_type": "code",
   "execution_count": 8,
   "id": "fc60daee-2fa3-49f1-bd2a-5d77e70022f3",
   "metadata": {},
   "outputs": [
    {
     "data": {
      "text/plain": [
       "173"
      ]
     },
     "execution_count": 8,
     "metadata": {},
     "output_type": "execute_result"
    }
   ],
   "source": [
    "len(ds.index.grid_left_edge)"
   ]
  },
  {
   "cell_type": "code",
   "execution_count": 9,
   "id": "1fd0c357-c2e1-4ab8-9dcf-a41b10c28f94",
   "metadata": {},
   "outputs": [
    {
     "data": {
      "text/plain": [
       "173"
      ]
     },
     "execution_count": 9,
     "metadata": {},
     "output_type": "execute_result"
    }
   ],
   "source": [
    "len(ds.index.grid_right_edge)"
   ]
  },
  {
   "cell_type": "code",
   "execution_count": 10,
   "id": "0bc77eb8-0e81-438f-940f-7cb406de616a",
   "metadata": {},
   "outputs": [
    {
     "data": {
      "text/plain": [
       "<yt.utilities.parallel_tools.parallel_analysis_interface.Communicator at 0x7f8cf45afaf0>"
      ]
     },
     "execution_count": 10,
     "metadata": {},
     "output_type": "execute_result"
    }
   ],
   "source": [
    "ds.index.comm"
   ]
  },
  {
   "cell_type": "code",
   "execution_count": 11,
   "id": "20ed3020-d086-47b7-87c9-b8402dc2fc04",
   "metadata": {},
   "outputs": [
    {
     "data": {
      "text/plain": [
       "8"
      ]
     },
     "execution_count": 11,
     "metadata": {},
     "output_type": "execute_result"
    }
   ],
   "source": [
    "ds.index.max_level"
   ]
  },
  {
   "cell_type": "markdown",
   "id": "5d57c58a-d40a-4dac-99e8-fd4945c8c3d9",
   "metadata": {},
   "source": [
    "### Individual Grid"
   ]
  },
  {
   "cell_type": "markdown",
   "id": "52fa3d6f-f2ca-4ac5-98e6-a735e9973bb4",
   "metadata": {},
   "source": [
    "```\n",
    "Grid = 1\n",
    "Task              = 0\n",
    "GridRank          = 3\n",
    "GridDimension     = 38 38 38 \n",
    "GridStartIndex    = 3 3 3 \n",
    "GridEndIndex      = 34 34 34 \n",
    "GridLeftEdge      = 0 0 0 \n",
    "GridRightEdge     = 1 1 1 \n",
    "Time              = 0.0060000200028298\n",
    "SubgridsAreStatic = 0\n",
    "NumberOfBaryonFields = 24\n",
    "FieldType = 0 4 5 6 1 49 50 51 52 53 7 8 9 10 11 12 23 24 25 27 19 61 62 83 \n",
    "BaryonFileName = ./DD0030/galaxy0030.cpu0000\n",
    "CourantSafetyNumber    = 0.300000\n",
    "PPMFlatteningParameter = 0\n",
    "PPMDiffusionParameter  = 0\n",
    "PPMSteepeningParameter = 0\n",
    "NumberOfParticles   = 0\n",
    "GravityBoundaryType = 1\n",
    "Pointer: Grid[1]->NextGridThisLevel = 0\n",
    "Pointer: Grid[1]->NextGridNextLevel = 2\n",
    "```"
   ]
  },
  {
   "cell_type": "code",
   "execution_count": 12,
   "id": "f4aa95d1-b0dc-42ab-b7d5-7dd092117b42",
   "metadata": {},
   "outputs": [],
   "source": [
    "g0=ds.index.grids[0]"
   ]
  },
  {
   "cell_type": "code",
   "execution_count": 13,
   "id": "40bca4a6-a1a2-4bcc-bb40-d4c1164060aa",
   "metadata": {},
   "outputs": [
    {
     "data": {
      "text/plain": [
       "EnzoGrid_0001"
      ]
     },
     "execution_count": 13,
     "metadata": {},
     "output_type": "execute_result"
    }
   ],
   "source": [
    "g0"
   ]
  },
  {
   "cell_type": "code",
   "execution_count": 14,
   "id": "a757d44c-7c64-407e-93ee-400a61d63b4a",
   "metadata": {},
   "outputs": [
    {
     "data": {
      "text/plain": [
       "array([0, 0, 0])"
      ]
     },
     "execution_count": 14,
     "metadata": {},
     "output_type": "execute_result"
    }
   ],
   "source": [
    "g0.get_global_startindex()"
   ]
  },
  {
   "cell_type": "code",
   "execution_count": 15,
   "id": "b749634d-c0aa-4fb7-8ab3-b9a303d562ba",
   "metadata": {},
   "outputs": [
    {
     "data": {
      "text/plain": [
       "array([32, 32, 32], dtype=int32)"
      ]
     },
     "execution_count": 15,
     "metadata": {},
     "output_type": "execute_result"
    }
   ],
   "source": [
    "g0.ActiveDimensions   # GridEndIndex - GridStartIndex"
   ]
  },
  {
   "cell_type": "code",
   "execution_count": 16,
   "id": "29390884-7377-4c92-8a16-a5f2f625cc78",
   "metadata": {},
   "outputs": [
    {
     "data": {
      "text/plain": [
       "unyt_array([0., 0., 0.], 'code_length')"
      ]
     },
     "execution_count": 16,
     "metadata": {},
     "output_type": "execute_result"
    }
   ],
   "source": [
    "g0.LeftEdge"
   ]
  },
  {
   "cell_type": "code",
   "execution_count": 17,
   "id": "391c3ea8-8c41-4d62-9875-d130025f04fe",
   "metadata": {},
   "outputs": [
    {
     "data": {
      "text/plain": [
       "unyt_array([1., 1., 1.], 'code_length')"
      ]
     },
     "execution_count": 17,
     "metadata": {},
     "output_type": "execute_result"
    }
   ],
   "source": [
    "g0.RightEdge"
   ]
  },
  {
   "cell_type": "code",
   "execution_count": 18,
   "id": "b12e3308-06ec-469a-a0e1-98818dbdbfeb",
   "metadata": {},
   "outputs": [
    {
     "data": {
      "text/plain": [
       "0"
      ]
     },
     "execution_count": 18,
     "metadata": {},
     "output_type": "execute_result"
    }
   ],
   "source": [
    "g0.Level"
   ]
  },
  {
   "cell_type": "code",
   "execution_count": 19,
   "id": "4193fcc4-3fcd-428b-b45e-a6f6d7b5dd6d",
   "metadata": {},
   "outputs": [
    {
     "data": {
      "text/plain": [
       "[EnzoGrid_0002,\n",
       " EnzoGrid_0003,\n",
       " EnzoGrid_0004,\n",
       " EnzoGrid_0005,\n",
       " EnzoGrid_0006,\n",
       " EnzoGrid_0007,\n",
       " EnzoGrid_0008,\n",
       " EnzoGrid_0009]"
      ]
     },
     "execution_count": 19,
     "metadata": {},
     "output_type": "execute_result"
    }
   ],
   "source": [
    "g0.Children"
   ]
  },
  {
   "cell_type": "code",
   "execution_count": 20,
   "id": "6826b1aa-b6e6-41a7-acad-a421aae9db95",
   "metadata": {},
   "outputs": [
    {
     "data": {
      "text/plain": [
       "array([16, 14, 16])"
      ]
     },
     "execution_count": 20,
     "metadata": {},
     "output_type": "execute_result"
    }
   ],
   "source": [
    "ds.index.grids[1].get_global_startindex()"
   ]
  },
  {
   "cell_type": "code",
   "execution_count": 41,
   "id": "d7325117-4aa4-4146-92c2-f1ed61493bce",
   "metadata": {},
   "outputs": [
    {
     "data": {
      "text/plain": [
       "2"
      ]
     },
     "execution_count": 41,
     "metadata": {},
     "output_type": "execute_result"
    }
   ],
   "source": [
    "g9=ds.index.grids[9]\n",
    "g9.Level"
   ]
  },
  {
   "cell_type": "code",
   "execution_count": 45,
   "id": "29874175-7682-4260-a127-9ad877f0a4bd",
   "metadata": {},
   "outputs": [
    {
     "data": {
      "text/plain": [
       "EnzoGrid_0019"
      ]
     },
     "execution_count": 45,
     "metadata": {},
     "output_type": "execute_result"
    }
   ],
   "source": [
    "g18=ds.index.grids[18]\n",
    "g18.Level\n",
    "g18"
   ]
  },
  {
   "cell_type": "code",
   "execution_count": 49,
   "id": "8953c5de-e6d0-4d94-8f7d-ebae6ad7f283",
   "metadata": {},
   "outputs": [
    {
     "name": "stderr",
     "output_type": "stream",
     "text": [
      "yt : [INFO     ] 2022-03-30 11:50:50,524 Sample dataset found in '/Users/yilinxia/Desktop/DXL/yt/IsolatedGalaxy/galaxy0030/galaxy0030'\n",
      "yt : [INFO     ] 2022-03-30 11:50:50,674 Parameters: current_time              = 0.0060000200028298\n",
      "yt : [INFO     ] 2022-03-30 11:50:50,678 Parameters: domain_dimensions         = [32 32 32]\n",
      "yt : [INFO     ] 2022-03-30 11:50:50,680 Parameters: domain_left_edge          = [0. 0. 0.]\n",
      "yt : [INFO     ] 2022-03-30 11:50:50,682 Parameters: domain_right_edge         = [1. 1. 1.]\n",
      "yt : [INFO     ] 2022-03-30 11:50:50,683 Parameters: cosmological_simulation   = 0\n",
      "Parsing Hierarchy : 100%|██████████████████████████| 173/173 [00:00<00:00, 9042.38it/s]\n",
      "yt : [INFO     ] 2022-03-30 11:50:50,720 Gathering a field list (this may take a moment.)\n"
     ]
    },
    {
     "data": {
      "text/plain": [
       "173"
      ]
     },
     "execution_count": 49,
     "metadata": {},
     "output_type": "execute_result"
    }
   ],
   "source": [
    "ds=yt.load_sample(\"IsolatedGalaxy\")\n",
    "level_ls=[]\n",
    "for i in range(len(ds.index.grids)):\n",
    "    level_ls.append(ds.index.grids[i].Level)\n",
    "len(level_ls)"
   ]
  },
  {
   "cell_type": "markdown",
   "id": "b05847ea-74e7-4613-baca-83827d6ce579",
   "metadata": {},
   "source": [
    "# Advanced Grid Inspection"
   ]
  },
  {
   "cell_type": "code",
   "execution_count": 21,
   "id": "45f70603-8bcd-49e2-b542-216b43931a2b",
   "metadata": {},
   "outputs": [
    {
     "data": {
      "text/plain": [
       "36"
      ]
     },
     "execution_count": 21,
     "metadata": {},
     "output_type": "execute_result"
    }
   ],
   "source": [
    "gs=ds.index.select_grids(ds.index.max_level)\n",
    "len(gs)"
   ]
  },
  {
   "cell_type": "code",
   "execution_count": 22,
   "id": "e49d376f-825b-4df6-ad52-1a89360ebdc3",
   "metadata": {},
   "outputs": [],
   "source": [
    "g2=gs[0]"
   ]
  },
  {
   "cell_type": "code",
   "execution_count": 23,
   "id": "9713f0d4-40b7-4fb8-acba-59b08755a28b",
   "metadata": {},
   "outputs": [
    {
     "name": "stdout",
     "output_type": "stream",
     "text": [
      "EnzoGrid_0028\n"
     ]
    }
   ],
   "source": [
    "print(g2)"
   ]
  },
  {
   "cell_type": "markdown",
   "id": "b3bc58d9-1732-4c78-b2b1-e9638e0a3258",
   "metadata": {},
   "source": [
    "```\n",
    "Grid = 28\n",
    "Task              = 5\n",
    "GridRank          = 3\n",
    "GridDimension     = 44 40 32 \n",
    "GridStartIndex    = 3 3 3 \n",
    "GridEndIndex      = 40 36 28 \n",
    "GridLeftEdge      = 0.5 0.5 0.5 \n",
    "GridRightEdge     = 0.504638671875 0.504150390625 0.503173828125 \n",
    "Time              = 0.0060000200028298\n",
    "SubgridsAreStatic = 0\n",
    "NumberOfBaryonFields = 24\n",
    "FieldType = 0 4 5 6 1 49 50 51 52 53 7 8 9 10 11 12 23 24 25 27 19 61 62 83 \n",
    "BaryonFileName = ./DD0030/galaxy0030.cpu0005\n",
    "CourantSafetyNumber    = 0.300000\n",
    "PPMFlatteningParameter = 0\n",
    "PPMDiffusionParameter  = 0\n",
    "PPMSteepeningParameter = 0\n",
    "NumberOfParticles   = 43926\n",
    "ParticleFileName = ./DD0030/galaxy0030.cpu0005\n",
    "GravityBoundaryType = 2\n",
    "Pointer: Grid[28]->NextGridThisLevel = 0\n",
    "Pointer: Grid[28]->NextGridNextLevel = 0\n",
    "Pointer: Grid[8]->NextGridNextLevel = 29\n",
    "```"
   ]
  },
  {
   "cell_type": "code",
   "execution_count": 24,
   "id": "b34d81bb-94cd-48c1-87d1-a861d6c332a8",
   "metadata": {},
   "outputs": [
    {
     "name": "stdout",
     "output_type": "stream",
     "text": [
      "EnzoGrid_0023\n"
     ]
    }
   ],
   "source": [
    "print(g2.Parent)"
   ]
  },
  {
   "cell_type": "code",
   "execution_count": 25,
   "id": "77b43cb8-9cec-49e4-ace2-2c617bfdc516",
   "metadata": {},
   "outputs": [],
   "source": [
    "# ds.index.grids[22]"
   ]
  },
  {
   "cell_type": "code",
   "execution_count": 26,
   "id": "388cbaff-7935-4d19-bcd8-ef54910e9fc3",
   "metadata": {},
   "outputs": [
    {
     "data": {
      "text/plain": [
       "array([4096, 4096, 4096])"
      ]
     },
     "execution_count": 26,
     "metadata": {},
     "output_type": "execute_result"
    }
   ],
   "source": [
    "g2.get_global_startindex()"
   ]
  },
  {
   "cell_type": "code",
   "execution_count": 27,
   "id": "ce3a1751-a2c2-4921-a6b3-2d00399a3a08",
   "metadata": {},
   "outputs": [
    {
     "data": {
      "text/plain": [
       "(38, 34, 26)"
      ]
     },
     "execution_count": 27,
     "metadata": {},
     "output_type": "execute_result"
    }
   ],
   "source": [
    "g2[\"density\"].shape"
   ]
  },
  {
   "cell_type": "code",
   "execution_count": 28,
   "id": "b7d5f606-f0cb-4bed-835c-688b0cc54c1b",
   "metadata": {},
   "outputs": [
    {
     "data": {
      "text/plain": [
       "(40, 42, 24)"
      ]
     },
     "execution_count": 28,
     "metadata": {},
     "output_type": "execute_result"
    }
   ],
   "source": [
    "g2.Parent.child_mask.shape"
   ]
  },
  {
   "cell_type": "code",
   "execution_count": 29,
   "id": "19d16e36-1def-4f55-9f40-689035df9797",
   "metadata": {},
   "outputs": [
    {
     "data": {
      "text/plain": [
       "33592"
      ]
     },
     "execution_count": 29,
     "metadata": {},
     "output_type": "execute_result"
    }
   ],
   "source": [
    "g2.ActiveDimensions.prod()"
   ]
  },
  {
   "cell_type": "markdown",
   "id": "9ca5641e-f270-4185-8aef-c845f4bffdd8",
   "metadata": {},
   "source": [
    "# Simple Visualization"
   ]
  },
  {
   "cell_type": "code",
   "execution_count": 30,
   "id": "2322e97b-4c72-4eca-bd30-82d101de9488",
   "metadata": {},
   "outputs": [
    {
     "name": "stderr",
     "output_type": "stream",
     "text": [
      "yt : [INFO     ] 2022-03-30 11:44:59,694 Projection completed\n",
      "yt : [INFO     ] 2022-03-30 11:44:59,695 xlim = 0.000000 1.000000\n",
      "yt : [INFO     ] 2022-03-30 11:44:59,696 ylim = 0.000000 1.000000\n",
      "yt : [INFO     ] 2022-03-30 11:44:59,697 xlim = 0.000000 1.000000\n",
      "yt : [INFO     ] 2022-03-30 11:44:59,698 ylim = 0.000000 1.000000\n",
      "yt : [INFO     ] 2022-03-30 11:44:59,701 Making a fixed resolution buffer of (('gas', 'density')) 800 by 800\n"
     ]
    }
   ],
   "source": [
    "p=yt.ProjectionPlot(ds,\"y\",(\"gas\",\"density\"))"
   ]
  },
  {
   "cell_type": "code",
   "execution_count": 31,
   "id": "739a3de7-5045-435c-a913-a6ae6b7bd047",
   "metadata": {},
   "outputs": [
    {
     "data": {
      "text/html": [
       "<img style=\"max-width:100%;max-height:100%;\" src=\"data:image/png;base64,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\"><br>"
      ],
      "text/plain": [
       "<yt.visualization.plot_window.AxisAlignedProjectionPlot at 0x7f8cda9fd3d0>"
      ]
     },
     "metadata": {},
     "output_type": "display_data"
    }
   ],
   "source": [
    "p.show()"
   ]
  },
  {
   "cell_type": "markdown",
   "id": "8b746948-1682-4a0a-9bbf-d1d1b4ae84e4",
   "metadata": {},
   "source": [
    "# hexahedral_connectivity"
   ]
  },
  {
   "cell_type": "code",
   "execution_count": 32,
   "id": "f51d1f7c-2e04-4aad-b817-3204cd23d889",
   "metadata": {},
   "outputs": [],
   "source": [
    "xgrid = np.array([-1, -0.25, 0])"
   ]
  },
  {
   "cell_type": "code",
   "execution_count": 33,
   "id": "9648a271-10a3-4c3c-a172-8e007cbc8174",
   "metadata": {},
   "outputs": [],
   "source": [
    "coords, conn = yt.hexahedral_connectivity(xgrid, xgrid, xgrid)"
   ]
  },
  {
   "cell_type": "code",
   "execution_count": 34,
   "id": "19ecce24-a68a-46e1-8755-862b8356bd6f",
   "metadata": {},
   "outputs": [
    {
     "data": {
      "text/plain": [
       "array([[-1.  , -1.  , -1.  ],\n",
       "       [-1.  , -1.  , -0.25],\n",
       "       [-1.  , -1.  ,  0.  ],\n",
       "       [-1.  , -0.25, -1.  ],\n",
       "       [-1.  , -0.25, -0.25],\n",
       "       [-1.  , -0.25,  0.  ],\n",
       "       [-1.  ,  0.  , -1.  ],\n",
       "       [-1.  ,  0.  , -0.25],\n",
       "       [-1.  ,  0.  ,  0.  ],\n",
       "       [-0.25, -1.  , -1.  ],\n",
       "       [-0.25, -1.  , -0.25],\n",
       "       [-0.25, -1.  ,  0.  ],\n",
       "       [-0.25, -0.25, -1.  ],\n",
       "       [-0.25, -0.25, -0.25],\n",
       "       [-0.25, -0.25,  0.  ],\n",
       "       [-0.25,  0.  , -1.  ],\n",
       "       [-0.25,  0.  , -0.25],\n",
       "       [-0.25,  0.  ,  0.  ],\n",
       "       [ 0.  , -1.  , -1.  ],\n",
       "       [ 0.  , -1.  , -0.25],\n",
       "       [ 0.  , -1.  ,  0.  ],\n",
       "       [ 0.  , -0.25, -1.  ],\n",
       "       [ 0.  , -0.25, -0.25],\n",
       "       [ 0.  , -0.25,  0.  ],\n",
       "       [ 0.  ,  0.  , -1.  ],\n",
       "       [ 0.  ,  0.  , -0.25],\n",
       "       [ 0.  ,  0.  ,  0.  ]])"
      ]
     },
     "execution_count": 34,
     "metadata": {},
     "output_type": "execute_result"
    }
   ],
   "source": [
    "coords"
   ]
  },
  {
   "cell_type": "code",
   "execution_count": 35,
   "id": "97beb6b3-7564-4a5d-bb38-2a679f71b43f",
   "metadata": {},
   "outputs": [
    {
     "data": {
      "text/plain": [
       "array([[ 0,  1,  3,  4,  9, 10, 12, 13],\n",
       "       [ 1,  2,  4,  5, 10, 11, 13, 14],\n",
       "       [ 3,  4,  6,  7, 12, 13, 15, 16],\n",
       "       [ 4,  5,  7,  8, 13, 14, 16, 17],\n",
       "       [ 9, 10, 12, 13, 18, 19, 21, 22],\n",
       "       [10, 11, 13, 14, 19, 20, 22, 23],\n",
       "       [12, 13, 15, 16, 21, 22, 24, 25],\n",
       "       [13, 14, 16, 17, 22, 23, 25, 26]])"
      ]
     },
     "execution_count": 35,
     "metadata": {},
     "output_type": "execute_result"
    }
   ],
   "source": [
    "conn"
   ]
  }
 ],
 "metadata": {
  "kernelspec": {
   "display_name": "Python 3 (ipykernel)",
   "language": "python",
   "name": "python3"
  },
  "language_info": {
   "codemirror_mode": {
    "name": "ipython",
    "version": 3
   },
   "file_extension": ".py",
   "mimetype": "text/x-python",
   "name": "python",
   "nbconvert_exporter": "python",
   "pygments_lexer": "ipython3",
   "version": "3.8.12"
  }
 },
 "nbformat": 4,
 "nbformat_minor": 5
}
