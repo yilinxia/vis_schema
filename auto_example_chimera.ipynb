{
 "cells": [
  {
   "cell_type": "code",
   "execution_count": 1,
   "id": "a7ca3d9a-9514-4c97-b18a-fe1edab76f64",
   "metadata": {},
   "outputs": [],
   "source": [
    "import h5py\n",
    "import yt\n",
    "import numpy as np\n",
    "import collections"
   ]
  },
  {
   "cell_type": "code",
   "execution_count": 2,
   "id": "f7b0c2fb-a23f-479a-8868-b2cce9a56183",
   "metadata": {},
   "outputs": [],
   "source": [
    "f = h5py.File(\"/Users/yilinxia/Desktop/DXL/yt/chimera_000661800_grid_1_01.h5\", \"r\")\n",
    "# dataset can be donwloaded here http://use.yt/upload/6b106447"
   ]
  },
  {
   "cell_type": "markdown",
   "id": "00c82e7c-325c-40ea-af70-5549d0064aaf",
   "metadata": {},
   "source": [
    "# JSON Schema"
   ]
  },
  {
   "cell_type": "code",
   "execution_count": null,
   "id": "745cd86a-f7a4-4969-b297-75dc7eaed0cc",
   "metadata": {},
   "outputs": [],
   "source": []
  }
 ],
 "metadata": {
  "kernelspec": {
   "display_name": "Python 3 (ipykernel)",
   "language": "python",
   "name": "python3"
  },
  "language_info": {
   "codemirror_mode": {
    "name": "ipython",
    "version": 3
   },
   "file_extension": ".py",
   "mimetype": "text/x-python",
   "name": "python",
   "nbconvert_exporter": "python",
   "pygments_lexer": "ipython3",
   "version": "3.8.12"
  }
 },
 "nbformat": 4,
 "nbformat_minor": 5
}
