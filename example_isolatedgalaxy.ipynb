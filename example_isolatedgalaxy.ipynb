{
 "cells": [
  {
   "cell_type": "markdown",
   "id": "7e445ca0-a3f9-462e-bbe5-f0bb8690c3b1",
   "metadata": {},
   "source": [
    "# Build Grid_Data"
   ]
  },
  {
   "cell_type": "code",
   "execution_count": 1,
   "id": "62e431f4-0ea9-4fca-8603-1efc3cbcf282",
   "metadata": {},
   "outputs": [],
   "source": [
    "with open('/Users/yilinxia/Desktop/DXL/yt/IsolatedGalaxy/galaxy0030/galaxy0030.hierarchy') as f:\n",
    "    lines = f.readlines()"
   ]
  },
  {
   "cell_type": "code",
   "execution_count": 13,
   "id": "0a3e0c41-ecad-4d84-849f-e2e351bacdaf",
   "metadata": {},
   "outputs": [],
   "source": [
    "grids_loc=[]\n",
    "for line in lines:\n",
    "    if \"Grid =\" in line:\n",
    "        grids_loc.append(lines.index(line))"
   ]
  },
  {
   "cell_type": "code",
   "execution_count": 14,
   "id": "9b40b466-ead2-4168-bccf-5d07815bc747",
   "metadata": {},
   "outputs": [],
   "source": [
    "grid_info=dict()\n",
    "grid_id=1\n",
    "loc_=0\n",
    "for grid_loc in grid_range:\n",
    "    start_indx=grids_loc[loc_]\n",
    "    end_indx=grids_loc[loc_+1]\n",
    "    grid_info[grid_id]=lines[start_indx:end_indx]"
   ]
  },
  {
   "cell_type": "code",
   "execution_count": 17,
   "id": "b47ce9b8-0ce1-471b-9c23-0e2a2fbe4e8c",
   "metadata": {},
   "outputs": [
    {
     "data": {
      "text/plain": [
       "['Grid = 1\\n',\n",
       " 'Task              = 0\\n',\n",
       " 'GridRank          = 3\\n',\n",
       " 'GridDimension     = 38 38 38 \\n',\n",
       " 'GridStartIndex    = 3 3 3 \\n',\n",
       " 'GridEndIndex      = 34 34 34 \\n',\n",
       " 'GridLeftEdge      = 0 0 0 \\n',\n",
       " 'GridRightEdge     = 1 1 1 \\n',\n",
       " 'Time              = 0.0060000200028298\\n',\n",
       " 'SubgridsAreStatic = 0\\n',\n",
       " 'NumberOfBaryonFields = 24\\n',\n",
       " 'FieldType = 0 4 5 6 1 49 50 51 52 53 7 8 9 10 11 12 23 24 25 27 19 61 62 83 \\n',\n",
       " 'BaryonFileName = ./DD0030/galaxy0030.cpu0000\\n',\n",
       " 'CourantSafetyNumber    = 0.300000\\n',\n",
       " 'PPMFlatteningParameter = 0\\n',\n",
       " 'PPMDiffusionParameter  = 0\\n',\n",
       " 'PPMSteepeningParameter = 0\\n',\n",
       " 'NumberOfParticles   = 0\\n',\n",
       " 'GravityBoundaryType = 1\\n',\n",
       " 'Pointer: Grid[1]->NextGridThisLevel = 0\\n',\n",
       " 'Pointer: Grid[1]->NextGridNextLevel = 2\\n',\n",
       " '\\n']"
      ]
     },
     "execution_count": 17,
     "metadata": {},
     "output_type": "execute_result"
    }
   ],
   "source": [
    "grid_info[1]"
   ]
  }
 ],
 "metadata": {
  "kernelspec": {
   "display_name": "Python 3 (ipykernel)",
   "language": "python",
   "name": "python3"
  },
  "language_info": {
   "codemirror_mode": {
    "name": "ipython",
    "version": 3
   },
   "file_extension": ".py",
   "mimetype": "text/x-python",
   "name": "python",
   "nbconvert_exporter": "python",
   "pygments_lexer": "ipython3",
   "version": "3.8.12"
  }
 },
 "nbformat": 4,
 "nbformat_minor": 5
}
