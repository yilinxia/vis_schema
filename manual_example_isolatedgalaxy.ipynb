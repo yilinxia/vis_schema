{
 "cells": [
  {
   "cell_type": "code",
   "execution_count": 1,
   "id": "a2266956-f6ce-4da7-8092-038974d6d7a6",
   "metadata": {},
   "outputs": [],
   "source": [
    "import numpy as np\n",
    "import h5py\n",
    "import yt"
   ]
  },
  {
   "cell_type": "markdown",
   "id": "7e445ca0-a3f9-462e-bbe5-f0bb8690c3b1",
   "metadata": {},
   "source": [
    "import numpy as np# Build Grid_Data"
   ]
  },
  {
   "cell_type": "code",
   "execution_count": 2,
   "id": "62e431f4-0ea9-4fca-8603-1efc3cbcf282",
   "metadata": {},
   "outputs": [],
   "source": [
    "with open('/Users/yilinxia/Desktop/DXL/yt/IsolatedGalaxy/galaxy0030/galaxy0030.hierarchy') as f:\n",
    "    lines = f.readlines()"
   ]
  },
  {
   "cell_type": "code",
   "execution_count": 3,
   "id": "0a3e0c41-ecad-4d84-849f-e2e351bacdaf",
   "metadata": {},
   "outputs": [],
   "source": [
    "grids_loc=[]\n",
    "for line in lines:\n",
    "    if \"Grid =\" in line:\n",
    "        grids_loc.append(lines.index(line))"
   ]
  },
  {
   "cell_type": "code",
   "execution_count": 4,
   "id": "0044e75a-03cf-4657-a5ee-02a5a71adf65",
   "metadata": {},
   "outputs": [
    {
     "data": {
      "text/plain": [
       "3981"
      ]
     },
     "execution_count": 4,
     "metadata": {},
     "output_type": "execute_result"
    }
   ],
   "source": [
    "len(lines)"
   ]
  },
  {
   "cell_type": "code",
   "execution_count": 5,
   "id": "983c365e-d468-4174-9790-3cf96ddc8f73",
   "metadata": {},
   "outputs": [
    {
     "data": {
      "text/plain": [
       "3947"
      ]
     },
     "execution_count": 5,
     "metadata": {},
     "output_type": "execute_result"
    }
   ],
   "source": [
    "grids_loc[-1]"
   ]
  },
  {
   "cell_type": "code",
   "execution_count": 6,
   "id": "9b40b466-ead2-4168-bccf-5d07815bc747",
   "metadata": {},
   "outputs": [],
   "source": [
    "grids_info=dict()\n",
    "grid_id=1\n",
    "for loc_ in range(len(grids_loc)-1):\n",
    "    start_indx=grids_loc[loc_]\n",
    "    end_indx=grids_loc[loc_+1]\n",
    "    grids_info[grid_id]=lines[start_indx:end_indx]\n",
    "    grid_id+=1\n",
    "    \n",
    "grids_info[grid_id]=lines[end_indx:]"
   ]
  },
  {
   "cell_type": "code",
   "execution_count": 7,
   "id": "11e8a022-0431-4ae1-9fa4-01b3df814dda",
   "metadata": {},
   "outputs": [
    {
     "data": {
      "text/plain": [
       "['Grid = 1\\n',\n",
       " 'Task              = 0\\n',\n",
       " 'GridRank          = 3\\n',\n",
       " 'GridDimension     = 38 38 38 \\n',\n",
       " 'GridStartIndex    = 3 3 3 \\n',\n",
       " 'GridEndIndex      = 34 34 34 \\n',\n",
       " 'GridLeftEdge      = 0 0 0 \\n',\n",
       " 'GridRightEdge     = 1 1 1 \\n',\n",
       " 'Time              = 0.0060000200028298\\n',\n",
       " 'SubgridsAreStatic = 0\\n',\n",
       " 'NumberOfBaryonFields = 24\\n',\n",
       " 'FieldType = 0 4 5 6 1 49 50 51 52 53 7 8 9 10 11 12 23 24 25 27 19 61 62 83 \\n',\n",
       " 'BaryonFileName = ./DD0030/galaxy0030.cpu0000\\n',\n",
       " 'CourantSafetyNumber    = 0.300000\\n',\n",
       " 'PPMFlatteningParameter = 0\\n',\n",
       " 'PPMDiffusionParameter  = 0\\n',\n",
       " 'PPMSteepeningParameter = 0\\n',\n",
       " 'NumberOfParticles   = 0\\n',\n",
       " 'GravityBoundaryType = 1\\n',\n",
       " 'Pointer: Grid[1]->NextGridThisLevel = 0\\n',\n",
       " 'Pointer: Grid[1]->NextGridNextLevel = 2\\n',\n",
       " '\\n']"
      ]
     },
     "execution_count": 7,
     "metadata": {},
     "output_type": "execute_result"
    }
   ],
   "source": [
    "grids_info[1]"
   ]
  },
  {
   "cell_type": "code",
   "execution_count": 8,
   "id": "38ca4f25-de15-4f95-949d-066680d59147",
   "metadata": {},
   "outputs": [],
   "source": [
    "def extract(line):\n",
    "    temp=line.split(\"=\")[1].split(\"\\n\")[0]\n",
    "    result=[]\n",
    "    for item in temp.split(\" \"):\n",
    "        if item != \"\":\n",
    "            result.append(round(float(item),2))\n",
    "    return(result)"
   ]
  },
  {
   "cell_type": "code",
   "execution_count": 9,
   "id": "5dc31f9a-f687-4917-9932-f64dc4fe7434",
   "metadata": {},
   "outputs": [],
   "source": [
    "grid_data=list()\n",
    "\n",
    "#grids_info is a list\n",
    "for key, value in grids_info.items():\n",
    "    i=0\n",
    "    for line in value:\n",
    "        if i==0:\n",
    "            grid_id=int(line.split(\"=\")[1].strip('\\n'))\n",
    "        i+=1\n",
    "        if \"LeftEdge\" in line:\n",
    "            LeftEdge=extract(line)\n",
    "        if \"RightEdge\" in line:\n",
    "            RightEdge=extract(line)\n",
    "        if \"StartIndex\" in line:\n",
    "            StartIndex=extract(line)\n",
    "        if \"EndIndex\" in line:\n",
    "            EndIndex=extract(line)\n",
    "        if \"BaryonFileName\" in line:\n",
    "            FileAdd= line.split(\"=\")[1].split(\"/\")[2].strip('\\n')\n",
    "    Dimensions=np.array(EndIndex)-np.array(StartIndex)+1\n",
    "    grid_data.append(dict(grid_id=grid_id,left_edge=LeftEdge,right_edge=RightEdge,dimensions=Dimensions,file=FileAdd ))"
   ]
  },
  {
   "cell_type": "code",
   "execution_count": 10,
   "id": "ba9df15a-8c60-4d22-b6b9-c9dc0f853e73",
   "metadata": {},
   "outputs": [
    {
     "data": {
      "text/plain": [
       "{'grid_id': 1,\n",
       " 'left_edge': [0.0, 0.0, 0.0],\n",
       " 'right_edge': [1.0, 1.0, 1.0],\n",
       " 'dimensions': array([32., 32., 32.]),\n",
       " 'file': 'galaxy0030.cpu0000'}"
      ]
     },
     "execution_count": 10,
     "metadata": {},
     "output_type": "execute_result"
    }
   ],
   "source": [
    "g=grid_data[0]\n",
    "g"
   ]
  },
  {
   "cell_type": "code",
   "execution_count": 11,
   "id": "153b09d0-dc60-425b-bb88-137db630b635",
   "metadata": {},
   "outputs": [],
   "source": [
    "def load_field(g,field):\n",
    "    cpufile=h5py.File(\"/Users/yilinxia/Desktop/DXL/yt/IsolatedGalaxy/galaxy0030/{}\".format(g['file']))\n",
    "    output=np.array(cpufile[\"/Grid%08i\" % g['grid_id']][field])\n",
    "    return(output)"
   ]
  },
  {
   "cell_type": "code",
   "execution_count": 12,
   "id": "19ec51c9-e887-4ff4-ab19-81b9af2fab41",
   "metadata": {},
   "outputs": [
    {
     "name": "stderr",
     "output_type": "stream",
     "text": [
      "yt : [INFO     ] 2022-03-30 12:04:07,984 Sample dataset found in '/Users/yilinxia/Desktop/DXL/yt/IsolatedGalaxy/galaxy0030/galaxy0030'\n",
      "yt : [INFO     ] 2022-03-30 12:04:08,072 Parameters: current_time              = 0.0060000200028298\n",
      "yt : [INFO     ] 2022-03-30 12:04:08,074 Parameters: domain_dimensions         = [32 32 32]\n",
      "yt : [INFO     ] 2022-03-30 12:04:08,076 Parameters: domain_left_edge          = [0. 0. 0.]\n",
      "yt : [INFO     ] 2022-03-30 12:04:08,079 Parameters: domain_right_edge         = [1. 1. 1.]\n",
      "yt : [INFO     ] 2022-03-30 12:04:08,080 Parameters: cosmological_simulation   = 0\n",
      "Parsing Hierarchy : 100%|██████████████████████████| 173/173 [00:00<00:00, 6728.31it/s]\n",
      "yt : [INFO     ] 2022-03-30 12:04:08,139 Gathering a field list (this may take a moment.)\n"
     ]
    },
    {
     "data": {
      "text/plain": [
       "173"
      ]
     },
     "execution_count": 12,
     "metadata": {},
     "output_type": "execute_result"
    }
   ],
   "source": [
    "ds=yt.load_sample(\"IsolatedGalaxy\")\n",
    "level_ls=[]\n",
    "for i in range(len(ds.index.grids)):\n",
    "    level_ls.append(ds.index.grids[i].Level)\n",
    "len(level_ls)"
   ]
  },
  {
   "cell_type": "code",
   "execution_count": 13,
   "id": "f15761d4-e587-4176-929e-bb8de3ddddf9",
   "metadata": {},
   "outputs": [],
   "source": [
    "for g in grid_data: \n",
    "    g[\"density\"] = load_field(g,\"Density\")\n",
    "    g[\"level\"]= level_ls[g['grid_id']-1]\n",
    "    if 'grid_id' in g: del g['grid_id']\n",
    "    if 'file' in g: del g['file']\n",
    "    g[\"particle_position_x\"] = (np.random.uniform(low=0.25, high=0.75, size=1000), \"code_length\") # No particles, so set empty arrays\n",
    "    g[\"particle_position_y\"] = (np.random.uniform(low=0.25, high=0.75, size=1000), \"code_length\")\n",
    "    g[\"particle_position_z\"] = (np.random.uniform(low=0.25, high=0.75, size=1000), \"code_length\")"
   ]
  },
  {
   "cell_type": "code",
   "execution_count": 14,
   "id": "cf273892-78ef-4ce5-bf84-b7760bc00cc5",
   "metadata": {},
   "outputs": [
    {
     "data": {
      "text/plain": [
       "dict_keys(['left_edge', 'right_edge', 'dimensions', 'density', 'level', 'particle_position_x', 'particle_position_y', 'particle_position_z'])"
      ]
     },
     "execution_count": 14,
     "metadata": {},
     "output_type": "execute_result"
    }
   ],
   "source": [
    "g.keys()"
   ]
  },
  {
   "cell_type": "code",
   "execution_count": 15,
   "id": "929ff94c-06a3-4903-9dbe-5fcabc643403",
   "metadata": {},
   "outputs": [
    {
     "data": {
      "text/plain": [
       "array([ 8., 12., 12.])"
      ]
     },
     "execution_count": 15,
     "metadata": {},
     "output_type": "execute_result"
    }
   ],
   "source": [
    "g[\"dimensions\"]"
   ]
  },
  {
   "cell_type": "code",
   "execution_count": 16,
   "id": "8a394b15-0879-4d7f-82ef-d7fba1bd6be9",
   "metadata": {},
   "outputs": [
    {
     "ename": "YTInconsistentGridFieldShapeGridDims",
     "evalue": "Not all grid-based fields match the grid dimensions! Grid dims are (18, 16, 16), and the following fields have shapes that do not match them:\n    Field ('stream', 'density') has shape (16, 16, 18).\n",
     "output_type": "error",
     "traceback": [
      "\u001b[0;31m---------------------------------------------------------------------------\u001b[0m",
      "\u001b[0;31mYTInconsistentGridFieldShapeGridDims\u001b[0m      Traceback (most recent call last)",
      "Input \u001b[0;32mIn [16]\u001b[0m, in \u001b[0;36m<cell line: 1>\u001b[0;34m()\u001b[0m\n\u001b[0;32m----> 1\u001b[0m ds \u001b[38;5;241m=\u001b[39m \u001b[43myt\u001b[49m\u001b[38;5;241;43m.\u001b[39;49m\u001b[43mload_amr_grids\u001b[49m\u001b[43m(\u001b[49m\u001b[43mgrid_data\u001b[49m\u001b[43m,\u001b[49m\u001b[43m[\u001b[49m\u001b[38;5;241;43m32\u001b[39;49m\u001b[43m,\u001b[49m\u001b[43m \u001b[49m\u001b[38;5;241;43m32\u001b[39;49m\u001b[43m,\u001b[49m\u001b[43m \u001b[49m\u001b[38;5;241;43m32\u001b[39;49m\u001b[43m]\u001b[49m\u001b[43m)\u001b[49m\n",
      "File \u001b[0;32m~/yt-git/yt/loaders.py:481\u001b[0m, in \u001b[0;36mload_amr_grids\u001b[0;34m(grid_data, domain_dimensions, bbox, sim_time, length_unit, mass_unit, time_unit, velocity_unit, magnetic_unit, periodicity, geometry, refine_by, unit_system, default_species_fields)\u001b[0m\n\u001b[1;32m    479\u001b[0m grid_dimensions[i, :] \u001b[38;5;241m=\u001b[39m g\u001b[38;5;241m.\u001b[39mpop(\u001b[38;5;124m\"\u001b[39m\u001b[38;5;124mdimensions\u001b[39m\u001b[38;5;124m\"\u001b[39m)\n\u001b[1;32m    480\u001b[0m grid_levels[i, :] \u001b[38;5;241m=\u001b[39m g\u001b[38;5;241m.\u001b[39mpop(\u001b[38;5;124m\"\u001b[39m\u001b[38;5;124mlevel\u001b[39m\u001b[38;5;124m\"\u001b[39m)\n\u001b[0;32m--> 481\u001b[0m field_units, data, n_particles \u001b[38;5;241m=\u001b[39m \u001b[43mprocess_data\u001b[49m\u001b[43m(\u001b[49m\n\u001b[1;32m    482\u001b[0m \u001b[43m    \u001b[49m\u001b[43mg\u001b[49m\u001b[43m,\u001b[49m\u001b[43m \u001b[49m\u001b[43mgrid_dims\u001b[49m\u001b[38;5;241;43m=\u001b[39;49m\u001b[38;5;28;43mtuple\u001b[39;49m\u001b[43m(\u001b[49m\u001b[43mgrid_dimensions\u001b[49m\u001b[43m[\u001b[49m\u001b[43mi\u001b[49m\u001b[43m,\u001b[49m\u001b[43m \u001b[49m\u001b[43m:\u001b[49m\u001b[43m]\u001b[49m\u001b[43m)\u001b[49m\n\u001b[1;32m    483\u001b[0m \u001b[43m\u001b[49m\u001b[43m)\u001b[49m\n\u001b[1;32m    484\u001b[0m number_of_particles[i, :] \u001b[38;5;241m=\u001b[39m n_particles\n\u001b[1;32m    485\u001b[0m sfh[i] \u001b[38;5;241m=\u001b[39m data\n",
      "File \u001b[0;32m~/yt-git/yt/frontends/stream/definitions.py:226\u001b[0m, in \u001b[0;36mprocess_data\u001b[0;34m(data, grid_dims)\u001b[0m\n\u001b[1;32m    224\u001b[0m     \u001b[38;5;28;01mif\u001b[39;00m grid_dims \u001b[38;5;129;01mis\u001b[39;00m \u001b[38;5;129;01mnot\u001b[39;00m \u001b[38;5;28;01mNone\u001b[39;00m:\n\u001b[1;32m    225\u001b[0m         \u001b[38;5;28;01mif\u001b[39;00m \u001b[38;5;129;01mnot\u001b[39;00m np\u001b[38;5;241m.\u001b[39mall(g_s \u001b[38;5;241m==\u001b[39m grid_dims):\n\u001b[0;32m--> 226\u001b[0m             \u001b[38;5;28;01mraise\u001b[39;00m YTInconsistentGridFieldShapeGridDims(g_shapes, grid_dims)\n\u001b[1;32m    227\u001b[0m \u001b[38;5;28;01mif\u001b[39;00m \u001b[38;5;28mlen\u001b[39m(p_shapes) \u001b[38;5;241m>\u001b[39m \u001b[38;5;241m0\u001b[39m:\n\u001b[1;32m    228\u001b[0m     \u001b[38;5;28;01mfor\u001b[39;00m ptype, p_shape \u001b[38;5;129;01min\u001b[39;00m p_shapes\u001b[38;5;241m.\u001b[39mitems():\n",
      "\u001b[0;31mYTInconsistentGridFieldShapeGridDims\u001b[0m: Not all grid-based fields match the grid dimensions! Grid dims are (18, 16, 16), and the following fields have shapes that do not match them:\n    Field ('stream', 'density') has shape (16, 16, 18).\n"
     ]
    }
   ],
   "source": [
    "ds = yt.load_amr_grids(grid_data,[32, 32, 32])"
   ]
  }
 ],
 "metadata": {
  "kernelspec": {
   "display_name": "Python 3 (ipykernel)",
   "language": "python",
   "name": "python3"
  },
  "language_info": {
   "codemirror_mode": {
    "name": "ipython",
    "version": 3
   },
   "file_extension": ".py",
   "mimetype": "text/x-python",
   "name": "python",
   "nbconvert_exporter": "python",
   "pygments_lexer": "ipython3",
   "version": "3.8.12"
  }
 },
 "nbformat": 4,
 "nbformat_minor": 5
}
