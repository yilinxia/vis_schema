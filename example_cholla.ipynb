{
 "cells": [
  {
   "cell_type": "code",
   "execution_count": 1,
   "id": "48a95375-3db1-4348-8fc2-adb949ad443f",
   "metadata": {},
   "outputs": [],
   "source": [
    "import h5py\n",
    "import yt\n",
    "import numpy as np"
   ]
  },
  {
   "cell_type": "code",
   "execution_count": 2,
   "id": "4478b33c-3af7-4ff1-99e9-a55ff12fd885",
   "metadata": {},
   "outputs": [
    {
     "ename": "YTUnidentifiedDataType",
     "evalue": "Could not determine input format from 'Cholla/30.h5'",
     "output_type": "error",
     "traceback": [
      "\u001b[0;31m---------------------------------------------------------------------------\u001b[0m",
      "\u001b[0;31mYTUnidentifiedDataType\u001b[0m                    Traceback (most recent call last)",
      "Input \u001b[0;32mIn [2]\u001b[0m, in \u001b[0;36m<cell line: 1>\u001b[0;34m()\u001b[0m\n\u001b[0;32m----> 1\u001b[0m ds\u001b[38;5;241m=\u001b[39m\u001b[43myt\u001b[49m\u001b[38;5;241;43m.\u001b[39;49m\u001b[43mload\u001b[49m\u001b[43m(\u001b[49m\u001b[38;5;124;43m\"\u001b[39;49m\u001b[38;5;124;43mCholla/30.h5\u001b[39;49m\u001b[38;5;124;43m\"\u001b[39;49m\u001b[43m)\u001b[49m\n",
      "File \u001b[0;32m~/yt-git/yt/loaders.py:112\u001b[0m, in \u001b[0;36mload\u001b[0;34m(fn, hint, *args, **kwargs)\u001b[0m\n\u001b[1;32m    109\u001b[0m \u001b[38;5;28;01mif\u001b[39;00m \u001b[38;5;28mlen\u001b[39m(candidates) \u001b[38;5;241m>\u001b[39m \u001b[38;5;241m1\u001b[39m:\n\u001b[1;32m    110\u001b[0m     \u001b[38;5;28;01mraise\u001b[39;00m YTAmbiguousDataType(fn, candidates)\n\u001b[0;32m--> 112\u001b[0m \u001b[38;5;28;01mraise\u001b[39;00m YTUnidentifiedDataType(fn, \u001b[38;5;241m*\u001b[39margs, \u001b[38;5;241m*\u001b[39m\u001b[38;5;241m*\u001b[39mkwargs)\n",
      "\u001b[0;31mYTUnidentifiedDataType\u001b[0m: Could not determine input format from 'Cholla/30.h5'"
     ]
    }
   ],
   "source": [
    "ds=yt.load(\"Cholla/30.h5\")"
   ]
  },
  {
   "cell_type": "code",
   "execution_count": 3,
   "id": "6525af19-9596-494a-917a-84ccaa90369c",
   "metadata": {},
   "outputs": [],
   "source": [
    "f1 = h5py.File(\"Cholla/30.h5\",'r') "
   ]
  },
  {
   "cell_type": "markdown",
   "id": "acd6553a-eded-4cb9-8d84-1c985a760ad1",
   "metadata": {},
   "source": [
    "# Exploration\n",
    "### Keys Explorations"
   ]
  },
  {
   "cell_type": "code",
   "execution_count": 4,
   "id": "d41cb47c-7693-4fb9-9581-64360d9fb60d",
   "metadata": {},
   "outputs": [
    {
     "data": {
      "text/plain": [
       "<KeysViewHDF5 ['Energy', 'GasEnergy', 'density', 'momentum_x', 'momentum_y', 'momentum_z']>"
      ]
     },
     "execution_count": 4,
     "metadata": {},
     "output_type": "execute_result"
    }
   ],
   "source": [
    "f1.keys()"
   ]
  },
  {
   "cell_type": "code",
   "execution_count": 10,
   "id": "ec2a8ba3-b2c7-4cf9-8d0f-b65cc8f8f83d",
   "metadata": {},
   "outputs": [
    {
     "data": {
      "text/plain": [
       "<HDF5 dataset \"density\": shape (128, 128, 128), type \">f8\">"
      ]
     },
     "execution_count": 10,
     "metadata": {},
     "output_type": "execute_result"
    }
   ],
   "source": [
    "f1[\"density\"]"
   ]
  },
  {
   "cell_type": "code",
   "execution_count": 8,
   "id": "8b858f9e-8996-4a95-9ee9-fa06bc66703f",
   "metadata": {},
   "outputs": [
    {
     "data": {
      "text/plain": [
       "<HDF5 dataset \"Energy\": shape (128, 128, 128), type \">f8\">"
      ]
     },
     "execution_count": 8,
     "metadata": {},
     "output_type": "execute_result"
    }
   ],
   "source": [
    "f1['Energy']"
   ]
  },
  {
   "cell_type": "code",
   "execution_count": 13,
   "id": "c9354e3c-b777-44db-a81b-61650e4beaa8",
   "metadata": {},
   "outputs": [
    {
     "data": {
      "text/plain": [
       "<HDF5 dataset \"GasEnergy\": shape (128, 128, 128), type \">f8\">"
      ]
     },
     "execution_count": 13,
     "metadata": {},
     "output_type": "execute_result"
    }
   ],
   "source": [
    "f1['GasEnergy']"
   ]
  },
  {
   "cell_type": "code",
   "execution_count": 18,
   "id": "47c62f0d-c697-47af-bfb9-0b15f48d2c1d",
   "metadata": {},
   "outputs": [
    {
     "data": {
      "text/plain": [
       "<HDF5 dataset \"momentum_x\": shape (128, 128, 128), type \">f8\">"
      ]
     },
     "execution_count": 18,
     "metadata": {},
     "output_type": "execute_result"
    }
   ],
   "source": [
    "f1['momentum_x']"
   ]
  },
  {
   "cell_type": "code",
   "execution_count": 15,
   "id": "6b0b701a-66db-47fc-a6eb-565f13a5e5a4",
   "metadata": {},
   "outputs": [
    {
     "data": {
      "text/plain": [
       "<HDF5 dataset \"momentum_y\": shape (128, 128, 128), type \">f8\">"
      ]
     },
     "execution_count": 15,
     "metadata": {},
     "output_type": "execute_result"
    }
   ],
   "source": [
    "f1['momentum_y']"
   ]
  },
  {
   "cell_type": "code",
   "execution_count": 16,
   "id": "5d26825d-b420-4475-9a91-08b58eb98306",
   "metadata": {},
   "outputs": [
    {
     "data": {
      "text/plain": [
       "<HDF5 dataset \"momentum_z\": shape (128, 128, 128), type \">f8\">"
      ]
     },
     "execution_count": 16,
     "metadata": {},
     "output_type": "execute_result"
    }
   ],
   "source": [
    "f1['momentum_z']"
   ]
  },
  {
   "cell_type": "code",
   "execution_count": 35,
   "id": "6e333f2c-148c-4a58-bbb4-4291a0ca76d5",
   "metadata": {},
   "outputs": [
    {
     "data": {
      "text/plain": [
       "array([[[-2.47833179, -2.48605826, -2.47835298, ...,  0.75467063,\n",
       "          0.76908826,  0.7941337 ],\n",
       "        [-2.53182009, -2.50891021, -2.47472496, ...,  0.76330101,\n",
       "          0.77901473,  0.80526378],\n",
       "        [-2.52516998, -2.46789848, -2.41604529, ...,  0.76739041,\n",
       "          0.7855327 ,  0.81165471],\n",
       "        ...,\n",
       "        [-0.49569081, -0.48839966, -0.48619897, ...,  1.20644842,\n",
       "          1.19533   ,  1.19086458],\n",
       "        [-0.48879041, -0.4790502 , -0.47384578, ...,  1.28491827,\n",
       "          1.27058405,  1.25350641],\n",
       "        [-0.48240852, -0.47112043, -0.46505248, ...,  1.44722382,\n",
       "          1.42373705,  1.37959027]],\n",
       "\n",
       "       [[-2.65102882, -2.63657818, -2.61003214, ...,  0.75917843,\n",
       "          0.7729766 ,  0.79733532],\n",
       "        [-2.66549434, -2.60576047, -2.5441322 , ...,  0.76794484,\n",
       "          0.78282734,  0.80835636],\n",
       "        [-2.6144742 , -2.52320383, -2.45441249, ...,  0.77220731,\n",
       "          0.78922941,  0.8149133 ],\n",
       "        ...,\n",
       "        [-0.51553461, -0.51021211, -0.51416976, ...,  1.1109997 ,\n",
       "          1.14133784,  1.18768163],\n",
       "        [-0.50776604, -0.49904885, -0.49673886, ...,  1.16230592,\n",
       "          1.18916397,  1.23655172],\n",
       "        [-0.50080922, -0.49045949, -0.48527075, ...,  1.30731252,\n",
       "          1.32730726,  1.35982298]],\n",
       "\n",
       "       [[-2.7697523 , -2.73830781, -2.69923439, ...,  0.76094481,\n",
       "          0.77452693,  0.79850706],\n",
       "        [-2.75313299, -2.66743227, -2.59335506, ...,  0.76975368,\n",
       "          0.784381  ,  0.80965683],\n",
       "        [-2.67602902, -2.56585328, -2.49340321, ...,  0.77403843,\n",
       "          0.79061089,  0.81628368],\n",
       "        ...,\n",
       "        [-0.53770715, -0.53554455, -0.54251068, ...,  1.07571983,\n",
       "          1.11311888,  1.17323372],\n",
       "        [-0.52850625, -0.52252799, -0.52541446, ...,  1.10218549,\n",
       "          1.14525599,  1.21226697],\n",
       "        [-0.52036467, -0.51201771, -0.51008016, ...,  1.19305538,\n",
       "          1.23976985,  1.30676551]],\n",
       "\n",
       "       ...,\n",
       "\n",
       "       [[-0.87468979, -0.89056734, -0.90776135, ...,  0.66650711,\n",
       "          0.64323748,  0.62777929],\n",
       "        [-0.65615779, -0.66336292, -0.67690042, ...,  0.56274706,\n",
       "          0.55770013,  0.56762555],\n",
       "        [-0.56363462, -0.56687318, -0.57280121, ...,  0.55762759,\n",
       "          0.56325337,  0.5800031 ],\n",
       "        ...,\n",
       "        [-2.06153761, -1.89340366, -1.77390211, ...,  0.478339  ,\n",
       "          0.50822349,  0.555491  ],\n",
       "        [-2.1863333 , -2.0327197 , -1.89894066, ...,  0.48501014,\n",
       "          0.51403178,  0.56002466],\n",
       "        [-2.39198564, -2.24162578, -2.09986969, ...,  0.4995283 ,\n",
       "          0.52649767,  0.56886381]],\n",
       "\n",
       "       [[-0.93014147, -0.9489151 , -0.96564497, ...,  0.75910093,\n",
       "          0.72627408,  0.69635416],\n",
       "        [-0.69242538, -0.70745943, -0.7252974 , ...,  0.55942864,\n",
       "          0.55415633,  0.56347608],\n",
       "        [-0.57602927, -0.58205343, -0.59032207, ...,  0.53413726,\n",
       "          0.53509938,  0.54681496],\n",
       "        ...,\n",
       "        [-2.09252263, -1.94321283, -1.8162108 , ...,  0.52280406,\n",
       "          0.54523852,  0.57753839],\n",
       "        [-2.14935547, -2.00631402, -1.87600165, ...,  0.52643729,\n",
       "          0.54680106,  0.57709956],\n",
       "        [-2.27566497, -2.13611758, -2.00453664, ...,  0.53163391,\n",
       "          0.54919545,  0.57840967]],\n",
       "\n",
       "       [[-0.99065461, -1.00593977, -1.01761711, ...,  1.03150189,\n",
       "          0.99861592,  0.95767561],\n",
       "        [-0.79462999, -0.81873698, -0.84126406, ...,  0.6533703 ,\n",
       "          0.63938915,  0.62922112],\n",
       "        [-0.63859926, -0.65391195, -0.66886855, ...,  0.54988978,\n",
       "          0.54862464,  0.55472097],\n",
       "        ...,\n",
       "        [-1.95536266, -1.82642696, -1.7169414 , ...,  0.52339933,\n",
       "          0.53961585,  0.56741687],\n",
       "        [-1.9611632 , -1.8416884 , -1.73439801, ...,  0.52339475,\n",
       "          0.53963832,  0.56716244],\n",
       "        [-1.94311147, -1.83772603, -1.74141933, ...,  0.52457279,\n",
       "          0.54070786,  0.56803225]]])"
      ]
     },
     "execution_count": 35,
     "metadata": {},
     "output_type": "execute_result"
    }
   ],
   "source": [
    "np.array(f1['momentum_z'])"
   ]
  },
  {
   "cell_type": "markdown",
   "id": "80694a8a-5a13-4ad2-b8f1-f61448773b42",
   "metadata": {},
   "source": [
    "### Attributes Exploration"
   ]
  },
  {
   "cell_type": "code",
   "execution_count": 5,
   "id": "496d1dc5-4134-429f-b93c-33122d9684e6",
   "metadata": {},
   "outputs": [
    {
     "data": {
      "text/plain": [
       "<KeysViewHDF5 ['bounds', 'dims', 'dims_local', 'domain', 'dt', 'dx', 'gamma', 'n_step', 'offset', 't']>"
      ]
     },
     "execution_count": 5,
     "metadata": {},
     "output_type": "execute_result"
    }
   ],
   "source": [
    "f1.attrs.keys()"
   ]
  },
  {
   "cell_type": "code",
   "execution_count": 22,
   "id": "7140096b-bf0e-49a4-8a7a-c835ee0671a4",
   "metadata": {},
   "outputs": [],
   "source": [
    "dims=f1.attrs[\"dims\"]"
   ]
  },
  {
   "cell_type": "code",
   "execution_count": 26,
   "id": "02ba88c2-fe3f-4263-a79d-69520bd96cd7",
   "metadata": {},
   "outputs": [
    {
     "data": {
      "text/plain": [
       "array([-5., -5., -5.])"
      ]
     },
     "execution_count": 26,
     "metadata": {},
     "output_type": "execute_result"
    }
   ],
   "source": [
    "f1.attrs[\"bounds\"]"
   ]
  },
  {
   "cell_type": "code",
   "execution_count": 27,
   "id": "41f5e6d0-9044-4333-9b93-acb106445b42",
   "metadata": {},
   "outputs": [
    {
     "data": {
      "text/plain": [
       "array([128, 128, 128], dtype=int32)"
      ]
     },
     "execution_count": 27,
     "metadata": {},
     "output_type": "execute_result"
    }
   ],
   "source": [
    "f1.attrs[\"dims_local\"]"
   ]
  },
  {
   "cell_type": "code",
   "execution_count": 28,
   "id": "6870c3c5-71ae-456d-b5f7-21a1b49798ee",
   "metadata": {},
   "outputs": [
    {
     "data": {
      "text/plain": [
       "array([10., 10., 10.])"
      ]
     },
     "execution_count": 28,
     "metadata": {},
     "output_type": "execute_result"
    }
   ],
   "source": [
    "f1.attrs[\"domain\"]"
   ]
  },
  {
   "cell_type": "code",
   "execution_count": 29,
   "id": "d47aee8a-fe4f-4d12-ab3f-14378573ce60",
   "metadata": {},
   "outputs": [
    {
     "data": {
      "text/plain": [
       "array([1.])"
      ]
     },
     "execution_count": 29,
     "metadata": {},
     "output_type": "execute_result"
    }
   ],
   "source": [
    "f1.attrs[\"dt\"]"
   ]
  },
  {
   "cell_type": "code",
   "execution_count": 30,
   "id": "16e4ee66-6e23-43be-b9e5-5158c15ceb17",
   "metadata": {},
   "outputs": [
    {
     "data": {
      "text/plain": [
       "array([0.078125, 0.078125, 0.078125])"
      ]
     },
     "execution_count": 30,
     "metadata": {},
     "output_type": "execute_result"
    }
   ],
   "source": [
    "f1.attrs[\"dx\"]"
   ]
  },
  {
   "cell_type": "code",
   "execution_count": 31,
   "id": "663c1df7-7d1c-41b5-9e67-4209bd6b05c4",
   "metadata": {},
   "outputs": [
    {
     "data": {
      "text/plain": [
       "array([1.6666667])"
      ]
     },
     "execution_count": 31,
     "metadata": {},
     "output_type": "execute_result"
    }
   ],
   "source": [
    "f1.attrs[\"gamma\"]"
   ]
  },
  {
   "cell_type": "code",
   "execution_count": 32,
   "id": "05338582-242d-4bd7-af84-6a26d4b7f955",
   "metadata": {},
   "outputs": [
    {
     "data": {
      "text/plain": [
       "array([25379], dtype=int32)"
      ]
     },
     "execution_count": 32,
     "metadata": {},
     "output_type": "execute_result"
    }
   ],
   "source": [
    "f1.attrs[\"n_step\"]"
   ]
  },
  {
   "cell_type": "code",
   "execution_count": 33,
   "id": "588f4a74-5cc2-4993-9d35-2d742cfdfee1",
   "metadata": {},
   "outputs": [
    {
     "data": {
      "text/plain": [
       "array([0, 0, 0], dtype=int32)"
      ]
     },
     "execution_count": 33,
     "metadata": {},
     "output_type": "execute_result"
    }
   ],
   "source": [
    "f1.attrs[\"offset\"]"
   ]
  },
  {
   "cell_type": "code",
   "execution_count": 34,
   "id": "e40ba055-f71c-4489-a535-379893847f3d",
   "metadata": {},
   "outputs": [
    {
     "data": {
      "text/plain": [
       "array([30000.])"
      ]
     },
     "execution_count": 34,
     "metadata": {},
     "output_type": "execute_result"
    }
   ],
   "source": [
    "f1.attrs[\"t\"]"
   ]
  },
  {
   "cell_type": "markdown",
   "id": "b9f125ea-f00f-46ca-bed4-2d5bf0e66660",
   "metadata": {},
   "source": [
    "# Construction\n",
    "### Mesh Structure Construction"
   ]
  },
  {
   "cell_type": "markdown",
   "id": "90118480-f1db-4a24-8078-c2841cb5ad69",
   "metadata": {},
   "source": [
    "### Field Match"
   ]
  },
  {
   "cell_type": "code",
   "execution_count": 23,
   "id": "6987f3c8-7a8b-401a-8441-b1e24cda5ccb",
   "metadata": {},
   "outputs": [],
   "source": [
    "data = {n: v[()].T for n, v in f1.items() if v.shape == tuple(dims)}"
   ]
  },
  {
   "cell_type": "code",
   "execution_count": 25,
   "id": "c8a072f4-8c21-46b4-aac5-d0c749ce6aeb",
   "metadata": {},
   "outputs": [
    {
     "data": {
      "text/plain": [
       "dict_keys(['Energy', 'GasEnergy', 'density', 'momentum_x', 'momentum_y', 'momentum_z'])"
      ]
     },
     "execution_count": 25,
     "metadata": {},
     "output_type": "execute_result"
    }
   ],
   "source": [
    "data.keys()"
   ]
  },
  {
   "cell_type": "markdown",
   "id": "326789e0-47eb-4774-9200-ec786465de11",
   "metadata": {},
   "source": [
    "### Geometry Specification"
   ]
  },
  {
   "cell_type": "code",
   "execution_count": null,
   "id": "0b36ac86-00ed-47ae-885c-1052af0e4770",
   "metadata": {},
   "outputs": [],
   "source": []
  },
  {
   "cell_type": "markdown",
   "id": "31a49cd9-245e-42d7-8067-b9901a7d2772",
   "metadata": {},
   "source": [
    "### Data Export"
   ]
  },
  {
   "cell_type": "markdown",
   "id": "c29b1c1c-3972-464b-8191-af8facef2c62",
   "metadata": {},
   "source": [
    "# Visualization"
   ]
  },
  {
   "cell_type": "code",
   "execution_count": null,
   "id": "c50114bd-9fe2-431d-ac95-1807a7b661a8",
   "metadata": {},
   "outputs": [],
   "source": []
  }
 ],
 "metadata": {
  "kernelspec": {
   "display_name": "Python 3 (ipykernel)",
   "language": "python",
   "name": "python3"
  },
  "language_info": {
   "codemirror_mode": {
    "name": "ipython",
    "version": 3
   },
   "file_extension": ".py",
   "mimetype": "text/x-python",
   "name": "python",
   "nbconvert_exporter": "python",
   "pygments_lexer": "ipython3",
   "version": "3.8.12"
  }
 },
 "nbformat": 4,
 "nbformat_minor": 5
}
